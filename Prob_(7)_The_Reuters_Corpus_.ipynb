{
  "nbformat": 4,
  "nbformat_minor": 0,
  "metadata": {
    "colab": {
      "provenance": [],
      "collapsed_sections": [
        "2_yY_7TpFmRU",
        "gkBskpLiEIOQ",
        "Yqf4sISKEfZ1",
        "WrWdNsvlEh9O",
        "D26pHz-GEnoD",
        "GkgMdK75BJ72",
        "_AKhA93yBOIK",
        "9IwA1HZ1BRcb",
        "UswXVEHbBTqo",
        "aew3m246MfCh",
        "sSHF89j1l96E",
        "Jf3zW0r11Qss",
        "atI9KFCL1Sty",
        "TL38604Q1UUa",
        "nEh_LBEw1WB7",
        "S6j6DN5dmEer",
        "3Wd3gh4ekQMI",
        "hP9fDw9ukR8i"
      ]
    },
    "kernelspec": {
      "name": "python3",
      "display_name": "Python 3"
    },
    "language_info": {
      "name": "python"
    }
  },
  "cells": [
    {
      "cell_type": "markdown",
      "source": [
        "# Load in data (documents)"
      ],
      "metadata": {
        "id": "2_yY_7TpFmRU"
      }
    },
    {
      "cell_type": "code",
      "execution_count": 2,
      "metadata": {
        "colab": {
          "base_uri": "https://localhost:8080/"
        },
        "id": "MX5vxawrokLY",
        "outputId": "3ec2d366-2588-422f-bfb7-a036fd4e155e"
      },
      "outputs": [
        {
          "output_type": "stream",
          "name": "stderr",
          "text": [
            "[nltk_data] Downloading package punkt to /root/nltk_data...\n",
            "[nltk_data]   Unzipping tokenizers/punkt.zip.\n"
          ]
        }
      ],
      "source": [
        "import os\n",
        "import nltk\n",
        "from nltk.tokenize import word_tokenize\n",
        "from nltk.corpus import stopwords\n",
        "from sklearn.feature_extraction.text import CountVectorizer\n",
        "import string\n",
        "from nltk.stem import PorterStemmer\n",
        "import zipfile\n",
        "\n",
        "nltk.download('punkt')  # for tokenizing\n",
        "\n",
        "# Unzipping the files\n",
        "def unzip_file(zip_path, extract_to):\n",
        "    with zipfile.ZipFile(zip_path, 'r') as zip_ref:\n",
        "        zip_ref.extractall(extract_to)\n",
        "\n",
        "# Unzip the training and test data\n",
        "unzip_file(\"/content/master data-ReutersC50_C50train.zip\", \"/content/master_data_train\")\n",
        "unzip_file(\"/content/master data-ReutersC50_C50test.zip\", \"/content/master_data_test\")\n",
        "\n",
        "# Helper function to read data from a labeled directory\n",
        "def read_data_from_directory(directory_path):\n",
        "    authors = os.listdir(directory_path)\n",
        "    texts = []\n",
        "    labels = []\n",
        "    for author in authors:\n",
        "        author_path = os.path.join(directory_path, author)\n",
        "        for file_name in os.listdir(author_path):\n",
        "            file_path = os.path.join(author_path, file_name)\n",
        "            with open(file_path, 'r', encoding='utf-8') as f:\n",
        "                texts.append(f.read())\n",
        "                labels.append(author)\n",
        "    return texts, labels\n",
        "\n",
        "# Reading the training and test data\n",
        "train_texts, train_labels = read_data_from_directory(\"/content/master_data_train\")\n",
        "test_texts, test_labels = read_data_from_directory(\"/content/master_data_test\")\n"
      ]
    },
    {
      "cell_type": "code",
      "source": [
        "# an example of tokenizing a text\n",
        "word_tokenize(train_texts[0])"
      ],
      "metadata": {
        "id": "ozTGMi-_zj6c"
      },
      "execution_count": null,
      "outputs": []
    },
    {
      "cell_type": "markdown",
      "source": [
        "# Preprocessing and Info Regarding Train/Test Data"
      ],
      "metadata": {
        "id": "gkBskpLiEIOQ"
      }
    },
    {
      "cell_type": "markdown",
      "source": [
        "## Preprocessing"
      ],
      "metadata": {
        "id": "Yqf4sISKEfZ1"
      }
    },
    {
      "cell_type": "code",
      "source": [
        "# Helper function to tokenize, remove punctuation, and stem\n",
        "nltk.download('stopwords')\n",
        "stop_words = set(stopwords.words('english'))\n",
        "\n",
        "def preprocess_text(text):\n",
        "    # Tokenize\n",
        "    tokens = word_tokenize(text.lower())\n",
        "\n",
        "    # Remove punctuation and stop words from token\n",
        "    tokens = [token for token in tokens if token not in string.punctuation and token not in stop_words]\n",
        "\n",
        "    # Stemming\n",
        "    stemmer = PorterStemmer()\n",
        "    stemmed_tokens = [stemmer.stem(token) for token in tokens]\n",
        "\n",
        "    return stemmed_tokens"
      ],
      "metadata": {
        "colab": {
          "base_uri": "https://localhost:8080/"
        },
        "id": "q40Pqf7X0Kua",
        "outputId": "f9cdcb76-52c4-41bf-828b-59e3ad8bf1b3"
      },
      "execution_count": 3,
      "outputs": [
        {
          "output_type": "stream",
          "name": "stderr",
          "text": [
            "[nltk_data] Downloading package stopwords to /root/nltk_data...\n",
            "[nltk_data]   Unzipping corpora/stopwords.zip.\n"
          ]
        }
      ]
    },
    {
      "cell_type": "markdown",
      "source": [
        "## General info"
      ],
      "metadata": {
        "id": "WrWdNsvlEh9O"
      }
    },
    {
      "cell_type": "code",
      "source": [
        "import matplotlib.pyplot as plt\n",
        "import numpy as np\n",
        "from collections import Counter\n",
        "\n",
        "# Basic Statistics\n",
        "print(f\"Total number of training documents: {len(train_texts)}\")\n",
        "print(f\"Total number of test documents: {len(test_texts)}\")\n",
        "\n",
        "train_doc_lengths = [len(preprocess_text(text)) for text in train_texts]\n",
        "test_doc_lengths = [len(preprocess_text(text)) for text in test_texts]\n",
        "\n",
        "print(f\"\\nAverage document length in training set: {np.mean(train_doc_lengths)} words\")\n",
        "print(f\"Minimum document length in training set: {np.min(train_doc_lengths)} words\")\n",
        "print(f\"Maximum document length in training set: {np.max(train_doc_lengths)} words\")\n",
        "print(f\"\\nAverage document length in test set: {np.mean(test_doc_lengths)} words\")\n",
        "print(f\"Minimum document length in test set: {np.min(test_doc_lengths)} words\")\n",
        "print(f\"Maximum document length in test set: {np.max(test_doc_lengths)} words\")\n"
      ],
      "metadata": {
        "colab": {
          "base_uri": "https://localhost:8080/"
        },
        "id": "widBKXdD0KsM",
        "outputId": "4a4dcb29-1050-41d0-b6fb-948efccfd2d8"
      },
      "execution_count": 13,
      "outputs": [
        {
          "output_type": "stream",
          "name": "stdout",
          "text": [
            "Total number of training documents: 2500\n",
            "Total number of test documents: 2500\n",
            "\n",
            "Average document length in training set: 328.4308 words\n",
            "Minimum document length in training set: 33 words\n",
            "Maximum document length in training set: 957 words\n",
            "\n",
            "Average document length in test set: 333.2564 words\n",
            "Minimum document length in test set: 42 words\n",
            "Maximum document length in test set: 934 words\n"
          ]
        }
      ]
    },
    {
      "cell_type": "code",
      "source": [
        "# Term Frequencies\n",
        "all_tokens = [token for text in train_texts for token in preprocess_text(text)]\n",
        "common_tokens = Counter(all_tokens).most_common(10) # counter is a class which counts frequencies of each word\n",
        "print(\"\\nMost common words across the training set:\")\n",
        "for token, freq in common_tokens:\n",
        "    print(f\"{token}: {freq}\")\n",
        "\n",
        "# Document Length Distribution\n",
        "plt.figure(figsize=(12, 6))\n",
        "plt.hist(train_doc_lengths, bins=50, alpha=0.7, label='Train')\n",
        "plt.hist(test_doc_lengths, bins=50, alpha=0.7, label='Test')\n",
        "plt.title('Document Length Distribution')\n",
        "plt.xlabel('Document Length')\n",
        "plt.ylabel('Number of Documents')\n",
        "plt.legend()\n",
        "plt.grid(True)\n",
        "plt.show()\n"
      ],
      "metadata": {
        "colab": {
          "base_uri": "https://localhost:8080/",
          "height": 772
        },
        "id": "iA9eRQUL0Kpu",
        "outputId": "542886b7-c7f0-4301-ea22-abef3d5a0881"
      },
      "execution_count": 14,
      "outputs": [
        {
          "output_type": "stream",
          "name": "stdout",
          "text": [
            "\n",
            "Most common words across the training set:\n",
            "said: 19856\n",
            "'s: 14872\n",
            "'': 13882\n",
            "``: 13712\n",
            "year: 6146\n",
            "compani: 5651\n",
            "would: 5237\n",
            "percent: 5211\n",
            "million: 4942\n",
            "market: 4629\n"
          ]
        },
        {
          "output_type": "display_data",
          "data": {
            "text/plain": [
              "<Figure size 1200x600 with 1 Axes>"
            ],
            "image/png": "[encoded data removed]"
          },
          "metadata": {}
        }
      ]
    },
    {
      "cell_type": "markdown",
      "source": [
        "# Convert to TD-IDF"
      ],
      "metadata": {
        "id": "D26pHz-GEnoD"
      }
    },
    {
      "cell_type": "code",
      "source": [
        "from sklearn.feature_extraction.text import TfidfVectorizer\n",
        "\n",
        "# Step 1: Preprocessing and Vectorization\n",
        "# Preprocess the text using the preprocess_text function\n",
        "preprocessed_train_texts = [' '.join(preprocess_text(text)) for text in train_texts]\n",
        "preprocessed_test_texts = [' '.join(preprocess_text(text)) for text in test_texts]\n",
        "\n",
        "# Convert the preprocessed text into TF-IDF vectors\n",
        "vectorizer = TfidfVectorizer(max_features=2500)  # You can adjust the max_features based on your needs\n",
        "train_dtm = vectorizer.fit_transform(preprocessed_train_texts)\n",
        "test_dtm = vectorizer.transform(preprocessed_test_texts)\n",
        "\n",
        "# At this point, train_dtm is a sparse matrix that you can use for clustering\n"
      ],
      "metadata": {
        "id": "BsHmmIuUE9GW"
      },
      "execution_count": 4,
      "outputs": []
    },
    {
      "cell_type": "markdown",
      "source": [
        "# Hierarchical Clustering"
      ],
      "metadata": {
        "id": "9g4RzDxXKvaN"
      }
    },
    {
      "cell_type": "markdown",
      "source": [
        "## Hierarchical Clustering code:"
      ],
      "metadata": {
        "id": "TehYSn_6FdY5"
      }
    },
    {
      "cell_type": "code",
      "source": [
        "from sklearn.cluster import AgglomerativeClustering\n",
        "from scipy.cluster.hierarchy import dendrogram, linkage\n",
        "import matplotlib.pyplot as plt\n",
        "\n",
        "# Step 2: Applying Hierarchical Clustering\n",
        "# Perform hierarchical clustering using AgglomerativeClustering\n",
        "# Linkage method 'ward' minimizes the variance within each cluster.\n",
        "agg_clustering = AgglomerativeClustering(n_clusters=None, distance_threshold=0, linkage='ward')\n",
        "agg_clustering.fit(train_dtm.toarray())  # Convert the sparse matrix to dense for this step\n",
        "\n",
        "# Generate the linkage matrix for plotting the dendrogram\n",
        "Z = linkage(train_dtm.toarray(), method='ward')\n",
        "\n",
        "# Plotting the dendrogram\n",
        "plt.figure(figsize=(10, 7))\n",
        "plt.title('Hierarchical Clustering Dendrogram')\n",
        "dendrogram(Z, truncate_mode='level', p=3)  # 'truncate_mode' controls how many levels to show\n",
        "plt.xlabel('Document Index')\n",
        "plt.ylabel('Distance')\n",
        "plt.show()\n"
      ],
      "metadata": {
        "colab": {
          "base_uri": "https://localhost:8080/",
          "height": 645
        },
        "id": "YC8HvWzREpqe",
        "outputId": "8be89cbe-7c6c-44f2-c987-fc1b79959e22"
      },
      "execution_count": 5,
      "outputs": [
        {
          "output_type": "display_data",
          "data": {
            "text/plain": [
              "<Figure size 1000x700 with 1 Axes>"
            ],
            "image/png": "[encoded data removed]"
          },
          "metadata": {}
        }
      ]
    },
    {
      "cell_type": "markdown",
      "source": [
        "## Where to cut"
      ],
      "metadata": {
        "id": "GkgMdK75BJ72"
      }
    },
    {
      "cell_type": "code",
      "source": [
        "from scipy.cluster.hierarchy import fcluster\n",
        "\n",
        "# Cut the dendrogram at a height that corresponds to the number of desired clusters\n",
        "cluster_labels = fcluster(Z, t=3, criterion='distance')\n",
        "\n",
        "# Analyze clusters\n",
        "num_clusters = len(set(cluster_labels))  # This gives you the number of clusters formed\n"
      ],
      "metadata": {
        "id": "JQ8aLYqaI-jV"
      },
      "execution_count": 22,
      "outputs": []
    },
    {
      "cell_type": "markdown",
      "source": [
        "## Num of documents in cluster"
      ],
      "metadata": {
        "id": "_AKhA93yBOIK"
      }
    },
    {
      "cell_type": "code",
      "source": [
        "import numpy as np\n",
        "\n",
        "for cluster_num in range(1, num_clusters + 1):\n",
        "    cluster_indices = np.where(cluster_labels == cluster_num)[0]\n",
        "    cluster_docs = [train_texts[i] for i in cluster_indices]\n",
        "    print(f\"Cluster {cluster_num} has {len(cluster_docs)} documents.\")\n",
        "\n",
        "    # You can now analyze these documents, find common terms, or even print some of them.\n"
      ],
      "metadata": {
        "colab": {
          "base_uri": "https://localhost:8080/"
        },
        "id": "_JnFoK8SJE3F",
        "outputId": "364996bd-29b4-4e2f-b839-c00741c9fedd"
      },
      "execution_count": 23,
      "outputs": [
        {
          "output_type": "stream",
          "name": "stdout",
          "text": [
            "Cluster 1 has 55 documents.\n",
            "Cluster 2 has 56 documents.\n",
            "Cluster 3 has 43 documents.\n",
            "Cluster 4 has 21 documents.\n",
            "Cluster 5 has 16 documents.\n",
            "Cluster 6 has 72 documents.\n",
            "Cluster 7 has 50 documents.\n",
            "Cluster 8 has 46 documents.\n",
            "Cluster 9 has 8 documents.\n",
            "Cluster 10 has 97 documents.\n",
            "Cluster 11 has 22 documents.\n",
            "Cluster 12 has 46 documents.\n",
            "Cluster 13 has 33 documents.\n",
            "Cluster 14 has 24 documents.\n",
            "Cluster 15 has 14 documents.\n",
            "Cluster 16 has 12 documents.\n",
            "Cluster 17 has 51 documents.\n",
            "Cluster 18 has 57 documents.\n",
            "Cluster 19 has 44 documents.\n",
            "Cluster 20 has 48 documents.\n",
            "Cluster 21 has 20 documents.\n",
            "Cluster 22 has 20 documents.\n",
            "Cluster 23 has 29 documents.\n",
            "Cluster 24 has 21 documents.\n",
            "Cluster 25 has 46 documents.\n",
            "Cluster 26 has 16 documents.\n",
            "Cluster 27 has 23 documents.\n",
            "Cluster 28 has 16 documents.\n",
            "Cluster 29 has 20 documents.\n",
            "Cluster 30 has 36 documents.\n",
            "Cluster 31 has 26 documents.\n",
            "Cluster 32 has 12 documents.\n",
            "Cluster 33 has 33 documents.\n",
            "Cluster 34 has 10 documents.\n",
            "Cluster 35 has 8 documents.\n",
            "Cluster 36 has 52 documents.\n",
            "Cluster 37 has 25 documents.\n",
            "Cluster 38 has 34 documents.\n",
            "Cluster 39 has 14 documents.\n",
            "Cluster 40 has 10 documents.\n",
            "Cluster 41 has 9 documents.\n",
            "Cluster 42 has 38 documents.\n",
            "Cluster 43 has 21 documents.\n",
            "Cluster 44 has 86 documents.\n",
            "Cluster 45 has 15 documents.\n",
            "Cluster 46 has 10 documents.\n",
            "Cluster 47 has 13 documents.\n",
            "Cluster 48 has 22 documents.\n",
            "Cluster 49 has 12 documents.\n",
            "Cluster 50 has 189 documents.\n",
            "Cluster 51 has 240 documents.\n",
            "Cluster 52 has 26 documents.\n",
            "Cluster 53 has 104 documents.\n",
            "Cluster 54 has 19 documents.\n",
            "Cluster 55 has 49 documents.\n",
            "Cluster 56 has 16 documents.\n",
            "Cluster 57 has 40 documents.\n",
            "Cluster 58 has 29 documents.\n",
            "Cluster 59 has 32 documents.\n",
            "Cluster 60 has 11 documents.\n",
            "Cluster 61 has 44 documents.\n",
            "Cluster 62 has 50 documents.\n",
            "Cluster 63 has 29 documents.\n",
            "Cluster 64 has 30 documents.\n",
            "Cluster 65 has 47 documents.\n",
            "Cluster 66 has 33 documents.\n"
          ]
        }
      ]
    },
    {
      "cell_type": "markdown",
      "source": [
        "## Authors in each cluster"
      ],
      "metadata": {
        "id": "9IwA1HZ1BRcb"
      }
    },
    {
      "cell_type": "code",
      "source": [
        "for cluster_num in range(1, num_clusters + 1):\n",
        "    cluster_indices = np.where(cluster_labels == cluster_num)[0]\n",
        "    cluster_authors = [train_labels[i] for i in cluster_indices]\n",
        "    unique_authors = set(cluster_authors)\n",
        "    print(f\"Cluster {cluster_num} contains documents from these authors: {unique_authors}\")\n"
      ],
      "metadata": {
        "colab": {
          "base_uri": "https://localhost:8080/"
        },
        "id": "nzrxgyf_JHYa",
        "outputId": "1e802959-0ea8-4d91-cbea-8aa4d3a7882d"
      },
      "execution_count": 8,
      "outputs": [
        {
          "output_type": "stream",
          "name": "stdout",
          "text": [
            "Cluster 1 contains documents from these authors: {'ScottHillis', 'TanEeLyn', 'SarahDavison', 'PeterHumphrey', 'JaneMacartney'}\n",
            "Cluster 2 contains documents from these authors: {'TanEeLyn', 'SarahDavison', 'MureDickie', 'PeterHumphrey', \"LynneO'Donnell\"}\n",
            "Cluster 3 contains documents from these authors: {'ScottHillis', 'TanEeLyn', 'BenjaminKangLim', 'MureDickie', 'PeterHumphrey', 'JaneMacartney', 'WilliamKazer'}\n",
            "Cluster 4 contains documents from these authors: {'MureDickie', 'ScottHillis', 'BenjaminKangLim', 'JaneMacartney'}\n",
            "Cluster 5 contains documents from these authors: {\"LynneO'Donnell\", 'WilliamKazer'}\n",
            "Cluster 6 contains documents from these authors: {'ScottHillis', 'BenjaminKangLim', 'GrahamEarnshaw', 'MureDickie', 'PeterHumphrey', 'JaneMacartney', 'WilliamKazer'}\n",
            "Cluster 7 contains documents from these authors: {'DavidLawder', 'ToddNissen'}\n",
            "Cluster 8 contains documents from these authors: {'MureDickie', 'FumikoFujisaki', 'MarcelMichelson', 'ToddNissen', 'EdnaFernandes', 'TimFarrand', 'BradDorfman', 'SimonCowell'}\n",
            "Cluster 9 contains documents from these authors: {'JoeOrtiz', 'JoWinterbottom'}\n",
            "Cluster 10 contains documents from these authors: {'JanLopatka', 'KevinMorrison', 'BradDorfman', 'SarahDavison', 'KouroshKarimkhany', 'GrahamEarnshaw', 'KevinDrawbaugh', 'DarrenSchuettler', 'JoeOrtiz', 'JohnMastrini', 'MarkBendeich', 'AlanCrosby', 'AaronPressman', 'BernardHickey'}\n",
            "Cluster 11 contains documents from these authors: {'HeatherScoffield'}\n",
            "Cluster 12 contains documents from these authors: {'LydiaZajc', 'DarrenSchuettler'}\n",
            "Cluster 13 contains documents from these authors: {'KevinMorrison', 'HeatherScoffield', 'LynnleyBrowning', 'BernardHickey'}\n",
            "Cluster 14 contains documents from these authors: {'EricAuchard', 'KouroshKarimkhany'}\n",
            "Cluster 15 contains documents from these authors: {'BradDorfman', 'TheresePoletti', 'EricAuchard'}\n",
            "Cluster 16 contains documents from these authors: {'AaronPressman', 'SamuelPerry'}\n",
            "Cluster 17 contains documents from these authors: {'MartinWolk', 'BradDorfman', 'GrahamEarnshaw', 'MureDickie', 'SamuelPerry', 'DarrenSchuettler', 'KirstinRidley', 'TheresePoletti', 'EricAuchard', 'MarkBendeich', 'NickLouth', 'AaronPressman', 'BernardHickey'}\n",
            "Cluster 18 contains documents from these authors: {'KevinMorrison', 'MartinWolk', 'KouroshKarimkhany', 'SamuelPerry', 'TheresePoletti', 'EricAuchard'}\n",
            "Cluster 19 contains documents from these authors: {'KouroshKarimkhany', 'KevinDrawbaugh', 'SamuelPerry', 'KirstinRidley', 'TheresePoletti', 'EricAuchard'}\n",
            "Cluster 20 contains documents from these authors: {'KeithWeir', 'KirstinRidley', 'EricAuchard', 'NickLouth', 'BernardHickey'}\n",
            "Cluster 21 contains documents from these authors: {'PierreTran', 'MarcelMichelson'}\n",
            "Cluster 22 contains documents from these authors: {'EdnaFernandes', 'PierreTran', 'AlexanderSmith', 'JoeOrtiz'}\n",
            "Cluster 23 contains documents from these authors: {'EdnaFernandes', 'RobinSidel', 'MarcelMichelson', 'PierreTran'}\n",
            "Cluster 24 contains documents from these authors: {'PierreTran', 'MarcelMichelson'}\n",
            "Cluster 25 contains documents from these authors: {'KevinMorrison', 'JimGilchrist'}\n",
            "Cluster 26 contains documents from these authors: {'KevinDrawbaugh', 'MartinWolk', 'PierreTran'}\n",
            "Cluster 27 contains documents from these authors: {'MartinWolk', 'RobinSidel', 'PatriciaCommins', 'EdnaFernandes', 'BradDorfman'}\n",
            "Cluster 28 contains documents from these authors: {'RobinSidel'}\n",
            "Cluster 29 contains documents from these authors: {'BradDorfman', 'DavidLawder', 'ToddNissen'}\n",
            "Cluster 30 contains documents from these authors: {'DavidLawder', 'MichaelConnor', 'KevinDrawbaugh', 'RobinSidel', 'ToddNissen', 'JonathanBirt', 'EdnaFernandes', 'BradDorfman'}\n",
            "Cluster 31 contains documents from these authors: {'RogerFillion'}\n",
            "Cluster 32 contains documents from these authors: {'NickLouth', 'EricAuchard'}\n",
            "Cluster 33 contains documents from these authors: {'RogerFillion', 'MichaelConnor', 'KirstinRidley', 'AlexanderSmith', 'NickLouth', 'JoWinterbottom'}\n",
            "Cluster 34 contains documents from these authors: {'AlexanderSmith', 'KeithWeir', 'JoWinterbottom'}\n",
            "Cluster 35 contains documents from these authors: {'RogerFillion'}\n",
            "Cluster 36 contains documents from these authors: {'KevinMorrison', 'PierreTran', 'KeithWeir', 'RogerFillion', 'MichaelConnor', 'KirstinRidley', 'TheresePoletti', 'NickLouth', 'BernardHickey'}\n",
            "Cluster 37 contains documents from these authors: {'KevinDrawbaugh', 'JonathanBirt'}\n",
            "Cluster 38 contains documents from these authors: {'ScottHillis', 'JaneMacartney', 'KarlPenhaul'}\n",
            "Cluster 39 contains documents from these authors: {'PatriciaCommins'}\n",
            "Cluster 40 contains documents from these authors: {'SimonCowell'}\n",
            "Cluster 41 contains documents from these authors: {'AlexanderSmith', 'SarahDavison'}\n",
            "Cluster 42 contains documents from these authors: {'GrahamEarnshaw', 'SarahDavison', 'FumikoFujisaki', 'SamuelPerry', 'JoeOrtiz', 'DarrenSchuettler', 'BernardHickey', 'AlexanderSmith', 'MarkBendeich', 'SimonCowell'}\n",
            "Cluster 43 contains documents from these authors: {'ScottHillis', 'BenjaminKangLim', 'JaneMacartney', 'WilliamKazer'}\n",
            "Cluster 44 contains documents from these authors: {'BenjaminKangLim', 'GrahamEarnshaw', 'SarahDavison', 'LydiaZajc', 'JohnMastrini', 'BradDorfman', 'MarkBendeich', 'MureDickie', 'WilliamKazer', 'MartinWolk', 'FumikoFujisaki', 'PeterHumphrey', 'ToddNissen', 'JaneMacartney', 'JanLopatka', 'ScottHillis', 'TanEeLyn', 'JimGilchrist', 'RobinSidel', 'EdnaFernandes'}\n",
            "Cluster 45 contains documents from these authors: {'MichaelConnor'}\n",
            "Cluster 46 contains documents from these authors: {'KevinDrawbaugh', 'PatriciaCommins', \"LynneO'Donnell\"}\n",
            "Cluster 47 contains documents from these authors: {'AaronPressman', 'PatriciaCommins', 'SimonCowell', 'FumikoFujisaki'}\n",
            "Cluster 48 contains documents from these authors: {'MartinWolk', 'LynnleyBrowning', 'DarrenSchuettler', 'AlexanderSmith', 'TimFarrand', 'MarkBendeich'}\n",
            "Cluster 49 contains documents from these authors: {'AlexanderSmith', 'JoeOrtiz'}\n",
            "Cluster 50 contains documents from these authors: {'BenjaminKangLim', 'GrahamEarnshaw', 'SarahDavison', 'PatriciaCommins', 'LydiaZajc', 'MarcelMichelson', 'JoeOrtiz', 'BradDorfman', 'MarkBendeich', 'KeithWeir', 'MureDickie', 'MatthewBunce', 'KirstinRidley', 'WilliamKazer', 'KevinMorrison', 'MartinWolk', 'PierreTran', 'KevinDrawbaugh', 'FumikoFujisaki', 'ToddNissen', 'SamuelPerry', 'JonathanBirt', 'HeatherScoffield', 'TimFarrand', 'JaneMacartney', 'AlexanderSmith', 'JanLopatka', 'AaronPressman', 'SimonCowell', 'BernardHickey', 'ScottHillis', 'DavidLawder', 'LynnleyBrowning', 'JimGilchrist', 'RogerFillion', 'KouroshKarimkhany', 'MichaelConnor', 'TanEeLyn', 'RobinSidel', 'DarrenSchuettler', 'EdnaFernandes', 'KarlPenhaul', 'AlanCrosby'}\n",
            "Cluster 51 contains documents from these authors: {'GrahamEarnshaw', 'SarahDavison', 'PatriciaCommins', 'MarcelMichelson', 'JoeOrtiz', 'EricAuchard', 'BradDorfman', 'MarkBendeich', 'KeithWeir', 'MureDickie', 'KirstinRidley', 'WilliamKazer', 'MartinWolk', 'KevinDrawbaugh', 'SamuelPerry', 'JonathanBirt', 'HeatherScoffield', 'TimFarrand', 'AlexanderSmith', 'NickLouth', 'SimonCowell', 'BernardHickey', 'ScottHillis', 'TanEeLyn', 'KouroshKarimkhany', 'MichaelConnor', 'RobinSidel', 'DarrenSchuettler', 'EdnaFernandes', 'KarlPenhaul', 'JoWinterbottom'}\n",
            "Cluster 52 contains documents from these authors: {'KirstinRidley', 'JoWinterbottom', 'AlexanderSmith', 'JonathanBirt'}\n",
            "Cluster 53 contains documents from these authors: {'PierreTran', 'KeithWeir', 'JoeOrtiz', 'JonathanBirt', 'KirstinRidley', 'EdnaFernandes', 'TimFarrand', 'SimonCowell', 'JoWinterbottom'}\n",
            "Cluster 54 contains documents from these authors: {'MarkBendeich', 'LydiaZajc', 'BradDorfman', 'KevinDrawbaugh'}\n",
            "Cluster 55 contains documents from these authors: {'MartinWolk', 'KouroshKarimkhany', 'MichaelConnor', 'KevinDrawbaugh', 'PatriciaCommins', 'SamuelPerry', 'TheresePoletti', 'EricAuchard', 'BradDorfman', 'NickLouth'}\n",
            "Cluster 56 contains documents from these authors: {'KevinMorrison', 'BernardHickey'}\n",
            "Cluster 57 contains documents from these authors: {'MarkBendeich', 'KevinMorrison', \"LynneO'Donnell\", 'BernardHickey'}\n",
            "Cluster 58 contains documents from these authors: {'JanLopatka', 'AlanCrosby', 'JohnMastrini'}\n",
            "Cluster 59 contains documents from these authors: {'JanLopatka', 'AlanCrosby', 'JohnMastrini'}\n",
            "Cluster 60 contains documents from these authors: {'AlanCrosby'}\n",
            "Cluster 61 contains documents from these authors: {'JanLopatka', 'AlanCrosby', 'JohnMastrini'}\n",
            "Cluster 62 contains documents from these authors: {'ScottHillis', 'LynnleyBrowning', 'BenjaminKangLim', 'MatthewBunce', 'WilliamKazer', 'KarlPenhaul'}\n",
            "Cluster 63 contains documents from these authors: {'KevinMorrison', 'LynnleyBrowning', 'SimonCowell', 'KarlPenhaul'}\n",
            "Cluster 64 contains documents from these authors: {'ScottHillis', 'GrahamEarnshaw', 'SarahDavison', 'JaneMacartney', 'WilliamKazer', 'AlanCrosby'}\n",
            "Cluster 65 contains documents from these authors: {'ScottHillis', 'TanEeLyn', 'LynnleyBrowning', 'MureDickie', \"LynneO'Donnell\", 'TimFarrand', 'JaneMacartney', 'MarkBendeich', 'JanLopatka'}\n",
            "Cluster 66 contains documents from these authors: {'KevinMorrison', 'LynnleyBrowning', 'GrahamEarnshaw', 'LydiaZajc', 'HeatherScoffield', \"LynneO'Donnell\", 'MarkBendeich'}\n"
          ]
        }
      ]
    },
    {
      "cell_type": "markdown",
      "source": [
        "## Number of clusters per author"
      ],
      "metadata": {
        "id": "UswXVEHbBTqo"
      }
    },
    {
      "cell_type": "code",
      "source": [
        "from collections import defaultdict\n",
        "\n",
        "def count_author_clusters(cluster_labels, authors):\n",
        "    # Dictionary to hold the set of clusters for each author\n",
        "    author_cluster_map = defaultdict(set)\n",
        "\n",
        "    # Iterate over each document's cluster label and corresponding author\n",
        "    for i, author in enumerate(authors):\n",
        "        author_cluster_map[author].add(cluster_labels[i])\n",
        "\n",
        "    # Count the number of unique clusters each author is in\n",
        "    author_cluster_counts = {author: len(clusters) for author, clusters in author_cluster_map.items()}\n",
        "\n",
        "    return author_cluster_counts\n",
        "\n",
        "# Calculate the number of clusters each author is in\n",
        "author_cluster_counts = count_author_clusters(cluster_labels, train_labels)\n",
        "\n",
        "# Sort the results by the number of clusters (in ascending order)\n",
        "sorted_author_cluster_counts = dict(sorted(author_cluster_counts.items(), key=lambda item: item[1]))\n",
        "\n",
        "# Print the sorted results\n",
        "for author, cluster_count in sorted_author_cluster_counts.items():\n",
        "    print(f\"{author}: {cluster_count}\")\n"
      ],
      "metadata": {
        "colab": {
          "base_uri": "https://localhost:8080/"
        },
        "id": "NSLV1c3Ex-Jd",
        "outputId": "8738622d-9b56-47e2-e232-14746f573b92"
      },
      "execution_count": 26,
      "outputs": [
        {
          "output_type": "stream",
          "name": "stdout",
          "text": [
            "MatthewBunce: 2\n",
            "JimGilchrist: 3\n",
            "DavidLawder: 4\n",
            "RogerFillion: 5\n",
            "LydiaZajc: 5\n",
            "JohnMastrini: 5\n",
            "KarlPenhaul: 5\n",
            "AaronPressman: 5\n",
            "FumikoFujisaki: 5\n",
            "HeatherScoffield: 5\n",
            "PeterHumphrey: 5\n",
            "TimFarrand: 6\n",
            "JonathanBirt: 6\n",
            "LynneO'Donnell: 6\n",
            "KeithWeir: 6\n",
            "JoWinterbottom: 6\n",
            "ToddNissen: 6\n",
            "MarcelMichelson: 6\n",
            "TheresePoletti: 6\n",
            "KouroshKarimkhany: 7\n",
            "PatriciaCommins: 7\n",
            "AlanCrosby: 7\n",
            "NickLouth: 7\n",
            "MichaelConnor: 7\n",
            "DarrenSchuettler: 7\n",
            "LynnleyBrowning: 7\n",
            "JanLopatka: 7\n",
            "BenjaminKangLim: 7\n",
            "RobinSidel: 7\n",
            "TanEeLyn: 7\n",
            "SimonCowell: 8\n",
            "SamuelPerry: 8\n",
            "JoeOrtiz: 8\n",
            "PierreTran: 8\n",
            "SarahDavison: 9\n",
            "KirstinRidley: 9\n",
            "GrahamEarnshaw: 9\n",
            "WilliamKazer: 9\n",
            "EdnaFernandes: 9\n",
            "MartinWolk: 9\n",
            "EricAuchard: 9\n",
            "MureDickie: 10\n",
            "KevinMorrison: 10\n",
            "JaneMacartney: 10\n",
            "AlexanderSmith: 10\n",
            "KevinDrawbaugh: 10\n",
            "BernardHickey: 10\n",
            "MarkBendeich: 11\n",
            "BradDorfman: 12\n",
            "ScottHillis: 12\n"
          ]
        }
      ]
    },
    {
      "cell_type": "markdown",
      "source": [
        "## Most Common Words in Each Cluster"
      ],
      "metadata": {
        "id": "aew3m246MfCh"
      }
    },
    {
      "cell_type": "code",
      "source": [
        "from sklearn.feature_extraction.text import CountVectorizer\n",
        "import numpy as np\n",
        "from collections import Counter\n",
        "\n",
        "def get_top_words_in_cluster(cluster_labels, cluster_num, texts, top_n=10):\n",
        "    # Select texts from the given cluster\n",
        "    cluster_texts = [texts[i] for i in range(len(cluster_labels)) if cluster_labels[i] == cluster_num]\n",
        "\n",
        "    # Join all texts into a single string\n",
        "    all_texts_combined = ' '.join(cluster_texts)\n",
        "\n",
        "    # Vectorize the combined texts to get word counts\n",
        "    vectorizer = CountVectorizer(stop_words='english')\n",
        "    word_counts = vectorizer.fit_transform([all_texts_combined])\n",
        "\n",
        "    # Sum the counts for each word\n",
        "    word_sums = np.array(word_counts.sum(axis=0)).flatten()\n",
        "\n",
        "    # Get the words and their counts\n",
        "    words = vectorizer.get_feature_names_out()\n",
        "    word_count_pairs = list(zip(words, word_sums))\n",
        "\n",
        "    # Sort by count and return the top N words\n",
        "    top_words = sorted(word_count_pairs, key=lambda x: x[1], reverse=True)[:top_n]\n",
        "    return top_words\n",
        "\n",
        "# Analyze the top words in each cluster\n",
        "for cluster_num in set(cluster_labels):\n",
        "    top_words = get_top_words_in_cluster(cluster_labels, cluster_num, train_texts, top_n=10)\n",
        "    print(f\"Cluster {cluster_num} - Top words: {top_words}\")\n"
      ],
      "metadata": {
        "colab": {
          "base_uri": "https://localhost:8080/"
        },
        "id": "nKFdLSZFOJVM",
        "outputId": "7daa353f-bcfa-49f4-adec-c2af307ecddf"
      },
      "execution_count": 27,
      "outputs": [
        {
          "output_type": "stream",
          "name": "stdout",
          "text": [
            "Cluster 1 - Top words: [('hong', 658), ('kong', 658), ('said', 402), ('china', 374), ('chinese', 172), ('year', 131), ('british', 129), ('beijing', 103), ('handover', 103), ('people', 102)]\n",
            "Cluster 2 - Top words: [('hong', 544), ('kong', 536), ('china', 377), ('tung', 326), ('said', 324), ('legislature', 180), ('beijing', 174), ('committee', 160), ('provisional', 126), ('democracy', 121)]\n",
            "Cluster 3 - Top words: [('wang', 423), ('said', 405), ('china', 157), ('court', 155), ('beijing', 148), ('trial', 141), ('dissident', 126), ('democracy', 125), ('chinese', 122), ('rights', 121)]\n",
            "Cluster 4 - Top words: [('said', 213), ('tibet', 185), ('dalai', 109), ('lama', 109), ('region', 94), ('beijing', 90), ('china', 86), ('chinese', 75), ('tibetan', 53), ('lhasa', 52)]\n",
            "Cluster 5 - Top words: [('said', 185), ('poultry', 161), ('china', 138), ('ban', 86), ('states', 72), ('official', 61), ('beijing', 58), ('chinese', 51), ('officials', 46), ('hong', 42)]\n",
            "Cluster 6 - Top words: [('china', 615), ('said', 601), ('beijing', 338), ('taiwan', 338), ('chinese', 275), ('trade', 256), ('states', 197), ('united', 195), ('washington', 145), ('visit', 131)]\n",
            "Cluster 7 - Top words: [('gm', 693), ('said', 380), ('workers', 350), ('uaw', 281), ('plants', 247), ('plant', 243), ('strike', 195), ('parts', 154), ('union', 140), ('000', 124)]\n",
            "Cluster 8 - Top words: [('said', 403), ('yen', 213), ('billion', 202), ('banks', 193), ('japan', 188), ('financial', 178), ('bank', 161), ('year', 150), ('japanese', 138), ('loans', 126)]\n",
            "Cluster 9 - Top words: [('said', 93), ('sainsbury', 90), ('bank', 72), ('analyst', 33), ('scotland', 33), ('pence', 29), ('banking', 28), ('year', 26), ('customers', 25), ('percent', 23)]\n",
            "Cluster 10 - Top words: [('said', 805), ('bank', 698), ('banks', 448), ('banking', 284), ('percent', 236), ('year', 228), ('million', 162), ('financial', 154), ('billion', 143), ('analysts', 141)]\n",
            "Cluster 11 - Top words: [('bre', 322), ('said', 295), ('gold', 157), ('barrick', 145), ('busang', 132), ('indonesian', 127), ('government', 114), ('company', 65), ('indonesia', 60), ('deal', 57)]\n",
            "Cluster 12 - Top words: [('said', 198), ('toronto', 198), ('shares', 141), ('stocks', 138), ('million', 118), ('canada', 116), ('gold', 114), ('bank', 104), ('points', 104), ('index', 98)]\n",
            "Cluster 13 - Top words: [('gold', 287), ('said', 284), ('placer', 97), ('company', 90), ('million', 90), ('exploration', 83), ('highlands', 82), ('companies', 74), ('year', 73), ('mining', 71)]\n",
            "Cluster 14 - Top words: [('apple', 349), ('said', 204), ('quarter', 101), ('software', 101), ('company', 90), ('computer', 87), ('macintosh', 67), ('million', 66), ('year', 58), ('new', 54)]\n",
            "Cluster 15 - Top words: [('said', 161), ('aol', 115), ('online', 108), ('compuserve', 104), ('company', 81), ('new', 80), ('service', 77), ('million', 51), ('amp', 49), ('block', 46)]\n",
            "Cluster 16 - Top words: [('said', 81), ('encryption', 79), ('export', 52), ('key', 47), ('computer', 41), ('products', 39), ('government', 35), ('policy', 35), ('companies', 31), ('software', 30)]\n",
            "Cluster 17 - Top words: [('internet', 436), ('said', 387), ('new', 138), ('service', 131), ('web', 122), ('companies', 121), ('software', 98), ('company', 96), ('online', 94), ('year', 92)]\n",
            "Cluster 18 - Top words: [('said', 457), ('microsoft', 336), ('software', 246), ('computer', 221), ('company', 180), ('year', 177), ('internet', 166), ('corp', 157), ('windows', 144), ('quarter', 141)]\n",
            "Cluster 19 - Top words: [('said', 360), ('ibm', 210), ('computer', 183), ('corp', 150), ('quarter', 148), ('sales', 127), ('intel', 126), ('pc', 125), ('analysts', 114), ('new', 102)]\n",
            "Cluster 20 - Top words: [('mci', 498), ('bt', 389), ('said', 373), ('market', 217), ('deal', 212), ('british', 202), ('percent', 185), ('billion', 180), ('company', 151), ('telecom', 141)]\n",
            "Cluster 21 - Top words: [('thomson', 254), ('said', 163), ('lagardere', 115), ('french', 100), ('daewoo', 89), ('government', 83), ('billion', 79), ('electronics', 72), ('multimedia', 72), ('csf', 68)]\n",
            "Cluster 22 - Top words: [('eurotunnel', 170), ('said', 157), ('tunnel', 91), ('debt', 83), ('million', 75), ('billion', 70), ('company', 60), ('pounds', 50), ('francs', 46), ('percent', 44)]\n",
            "Cluster 23 - Top words: [('said', 197), ('francs', 153), ('percent', 137), ('billion', 135), ('france', 114), ('telecom', 87), ('french', 81), ('company', 79), ('group', 68), ('million', 60)]\n",
            "Cluster 24 - Top words: [('air', 304), ('france', 167), ('liberte', 124), ('said', 124), ('french', 109), ('million', 78), ('airline', 73), ('francs', 53), ('percent', 53), ('company', 48)]\n",
            "Cluster 25 - Top words: [('said', 250), ('cargo', 227), ('hong', 186), ('kong', 184), ('air', 122), ('new', 120), ('44', 92), ('542', 90), ('171', 89), ('airlines', 82)]\n",
            "Cluster 26 - Top words: [('airbus', 250), ('said', 142), ('boeing', 109), ('aerospace', 54), ('aerospatiale', 50), ('company', 50), ('billion', 46), ('new', 45), ('market', 43), ('planes', 41)]\n",
            "Cluster 27 - Top words: [('said', 221), ('boeing', 202), ('mcdonnell', 112), ('douglas', 100), ('billion', 86), ('company', 82), ('new', 77), ('corp', 65), ('year', 58), ('jets', 57)]\n",
            "Cluster 28 - Top words: [('conrail', 259), ('csx', 193), ('norfolk', 128), ('said', 125), ('southern', 125), ('offer', 93), ('shareholders', 72), ('cash', 68), ('bid', 63), ('stock', 61)]\n",
            "Cluster 29 - Top words: [('ford', 245), ('said', 164), ('million', 91), ('new', 74), ('quarter', 55), ('plant', 46), ('year', 46), ('trotman', 41), ('company', 40), ('president', 34)]\n",
            "Cluster 30 - Top words: [('said', 310), ('car', 189), ('sales', 173), ('chrysler', 132), ('percent', 131), ('new', 111), ('year', 91), ('vehicles', 87), ('million', 85), ('cars', 82)]\n",
            "Cluster 31 - Top words: [('fcc', 191), ('phone', 145), ('local', 134), ('carriers', 126), ('said', 126), ('long', 115), ('distance', 105), ('rules', 102), ('companies', 97), ('new', 87)]\n",
            "Cluster 32 - Top words: [('amp', 166), ('said', 119), ('walter', 74), ('allen', 72), ('company', 52), ('executive', 50), ('chairman', 48), ('new', 44), ('chief', 43), ('donnelley', 35)]\n",
            "Cluster 33 - Top words: [('said', 271), ('amp', 169), ('cable', 140), ('new', 120), ('corp', 100), ('company', 99), ('percent', 99), ('communications', 98), ('wireless', 96), ('services', 89)]\n",
            "Cluster 34 - Top words: [('pearson', 113), ('said', 75), ('company', 40), ('media', 40), ('scardino', 33), ('executive', 31), ('bid', 28), ('bskyb', 28), ('group', 28), ('chief', 26)]\n",
            "Cluster 35 - Top words: [('tv', 101), ('ratings', 61), ('said', 44), ('industry', 42), ('shows', 41), ('children', 31), ('content', 30), ('parents', 30), ('based', 24), ('valenti', 24)]\n",
            "Cluster 36 - Top words: [('said', 373), ('television', 153), ('new', 117), ('million', 114), ('cable', 111), ('percent', 109), ('news', 105), ('tv', 105), ('digital', 97), ('time', 90)]\n",
            "Cluster 37 - Top words: [('said', 184), ('drug', 99), ('cancer', 61), ('drugs', 61), ('year', 59), ('biotech', 52), ('new', 52), ('marimastat', 50), ('plc', 48), ('market', 46)]\n",
            "Cluster 38 - Top words: [('said', 161), ('drug', 133), ('colombia', 123), ('police', 50), ('colombian', 44), ('extradition', 44), ('government', 41), ('year', 39), ('states', 35), ('united', 34)]\n",
            "Cluster 39 - Top words: [('adm', 176), ('said', 131), ('andreas', 64), ('company', 62), ('whitacre', 56), ('million', 55), ('board', 45), ('investigation', 42), ('fixing', 39), ('chairman', 36)]\n",
            "Cluster 40 - Top words: [('scotam', 97), ('abbey', 68), ('said', 65), ('policyholders', 45), ('bid', 36), ('offer', 34), ('billion', 32), ('pounds', 27), ('amp', 26), ('pru', 26)]\n",
            "Cluster 41 - Top words: [('fleming', 79), ('said', 73), ('jardine', 57), ('fund', 45), ('management', 40), ('investment', 35), ('hong', 32), ('kong', 32), ('robert', 29), ('compliance', 23)]\n",
            "Cluster 42 - Top words: [('said', 287), ('funds', 186), ('fund', 171), ('mutual', 151), ('investment', 96), ('billion', 92), ('percent', 83), ('hirsch', 77), ('management', 74), ('market', 70)]\n",
            "Cluster 43 - Top words: [('said', 168), ('party', 150), ('deng', 104), ('jiang', 86), ('china', 81), ('beijing', 65), ('communist', 63), ('corruption', 50), ('year', 44), ('officials', 43)]\n",
            "Cluster 44 - Top words: [('said', 801), ('china', 460), ('year', 321), ('percent', 281), ('state', 138), ('chinese', 136), ('million', 120), ('billion', 118), ('bank', 113), ('foreign', 113)]\n",
            "Cluster 45 - Top words: [('said', 146), ('tobacco', 114), ('florida', 68), ('industry', 59), ('state', 59), ('trial', 53), ('lawyers', 41), ('smoking', 39), ('companies', 38), ('cigarette', 35)]\n",
            "Cluster 46 - Top words: [('said', 115), ('monsanto', 97), ('chemical', 37), ('company', 34), ('business', 28), ('soybeans', 25), ('analysts', 22), ('businesses', 20), ('corn', 20), ('expected', 20)]\n",
            "Cluster 47 - Top words: [('insurance', 148), ('life', 126), ('said', 96), ('insurers', 35), ('companies', 34), ('conseco', 34), ('japan', 34), ('genetic', 33), ('firms', 32), ('japanese', 31)]\n",
            "Cluster 48 - Top words: [('said', 185), ('molson', 82), ('percent', 71), ('beers', 61), ('million', 59), ('bass', 55), ('foster', 54), ('beer', 49), ('deal', 48), ('year', 46)]\n",
            "Cluster 49 - Top words: [('said', 104), ('members', 51), ('billion', 48), ('halifax', 48), ('society', 48), ('market', 36), ('building', 35), ('percent', 35), ('pounds', 35), ('flotation', 34)]\n",
            "Cluster 50 - Top words: [('said', 1302), ('percent', 291), ('year', 268), ('million', 247), ('new', 218), ('government', 210), ('company', 184), ('billion', 169), ('industry', 160), ('told', 155)]\n",
            "Cluster 51 - Top words: [('said', 1900), ('million', 715), ('company', 636), ('year', 484), ('percent', 469), ('market', 385), ('group', 352), ('new', 349), ('business', 297), ('industry', 268)]\n",
            "Cluster 52 - Top words: [('said', 200), ('bid', 167), ('electric', 166), ('pence', 161), ('northern', 142), ('electricity', 115), ('offer', 95), ('ce', 92), ('east', 91), ('company', 88)]\n",
            "Cluster 53 - Top words: [('million', 737), ('said', 697), ('percent', 469), ('pounds', 436), ('year', 431), ('profits', 322), ('group', 247), ('company', 234), ('pence', 200), ('business', 186)]\n",
            "Cluster 54 - Top words: [('said', 210), ('sales', 170), ('percent', 122), ('year', 96), ('retailers', 63), ('store', 62), ('holiday', 55), ('stores', 55), ('season', 49), ('analyst', 36)]\n",
            "Cluster 55 - Top words: [('said', 515), ('quarter', 284), ('year', 199), ('sales', 184), ('percent', 166), ('share', 148), ('earnings', 143), ('million', 140), ('company', 131), ('analysts', 130)]\n",
            "Cluster 56 - Top words: [('news', 179), ('said', 177), ('corp', 112), ('percent', 92), ('murdoch', 82), ('million', 72), ('profit', 68), ('year', 63), ('20', 61), ('analysts', 61)]\n",
            "Cluster 57 - Top words: [('said', 407), ('million', 246), ('year', 183), ('profit', 173), ('percent', 123), ('steel', 105), ('half', 86), ('casino', 84), ('net', 77), ('sydney', 75)]\n",
            "Cluster 58 - Top words: [('said', 143), ('klaus', 137), ('senate', 130), ('elections', 118), ('house', 108), ('coalition', 100), ('percent', 99), ('ods', 95), ('lower', 94), ('party', 94)]\n",
            "Cluster 59 - Top words: [('said', 210), ('year', 180), ('percent', 163), ('billion', 152), ('czech', 134), ('crowns', 119), ('deficit', 105), ('crown', 87), ('trade', 75), ('bank', 62)]\n",
            "Cluster 60 - Top words: [('match', 39), ('ferreira', 33), ('world', 30), ('said', 29), ('henman', 28), ('martin', 28), ('second', 28), ('becker', 27), ('seed', 27), ('czech', 26)]\n",
            "Cluster 61 - Top words: [('czech', 210), ('said', 205), ('havel', 91), ('prague', 80), ('government', 65), ('market', 60), ('party', 54), ('kalvoda', 51), ('president', 50), ('declaration', 49)]\n",
            "Cluster 62 - Top words: [('said', 453), ('cocoa', 254), ('000', 208), ('tonnes', 180), ('exporters', 161), ('year', 161), ('percent', 134), ('coffee', 131), ('coast', 126), ('ivory', 124)]\n",
            "Cluster 63 - Top words: [('oil', 393), ('said', 276), ('russia', 155), ('russian', 96), ('companies', 89), ('energy', 80), ('percent', 75), ('gas', 60), ('moscow', 60), ('million', 58)]\n",
            "Cluster 64 - Top words: [('said', 300), ('market', 181), ('percent', 161), ('share', 153), ('markets', 145), ('investors', 143), ('shares', 138), ('index', 136), ('stock', 134), ('points', 130)]\n",
            "Cluster 65 - Top words: [('said', 478), ('china', 269), ('tonnes', 242), ('million', 238), ('year', 204), ('grain', 143), ('prices', 139), ('000', 136), ('chinese', 136), ('traders', 114)]\n",
            "Cluster 66 - Top words: [('said', 366), ('copper', 189), ('prices', 106), ('aluminium', 101), ('metal', 99), ('tonnes', 97), ('china', 91), ('chinese', 84), ('percent', 83), ('000', 82)]\n"
          ]
        }
      ]
    },
    {
      "cell_type": "markdown",
      "source": [
        "# Write Up"
      ],
      "metadata": {
        "id": "sSHF89j1l96E"
      }
    },
    {
      "cell_type": "markdown",
      "source": [
        "### Question"
      ],
      "metadata": {
        "id": "Jf3zW0r11Qss"
      }
    },
    {
      "cell_type": "markdown",
      "source": [
        "**Question:** Can the documents in the Reuters data be clustered together in a *meaningful* way based on their content? And what can we learn about the documents?"
      ],
      "metadata": {
        "id": "0WlZSmIHmCz4"
      }
    },
    {
      "cell_type": "markdown",
      "source": [
        "### Approach"
      ],
      "metadata": {
        "id": "atI9KFCL1Sty"
      }
    },
    {
      "cell_type": "markdown",
      "source": [
        "**Approach:**\n",
        "\n",
        "First, we obviously load in the data and we use two variables per dataset, as we need to store the text itself and the labels (authors) of that data.\n",
        "\n",
        "Next, we preprocess the data, in a sense making the data usable. First, we create a for loop which will run through each text. This for loop will tokenize the text (seperate the text by words, puncutation, etc). Then, we remove any stop words or puncuation, and finally stem the words (convert running to run, etc).\n",
        "\n",
        "Now we take each word, and convert it to TF-IDF structure. Words that are common among a couple of documents but rare across the entire corpus will have high TF-IDF scores. Having a numerical value to compare our words against each other is necessary for clustering, and TF-IDF gives more insight than just the overall counts\n",
        "\n",
        "I then created a dendrogram, which visualizes all the clusters. Originally, I had set it to go as deep as possible, and then messed around and adjusted the p value to see where/how many clusters I wanted to stop at. This diagram is a great way to visualize how the data is split, and how many documents are within each cluster\n",
        "\n",
        "However, although I might have wanted 7 clusters, or 9, etc, When I moved on to the fcluster part of the code (the code which produces the cluster) and messed around with the t value (how to cut the dendrogram for each cluster) I ran into an issue. When I started out with a small amount of clusters, say at t=6 I could create 8 clusters, BUT one cluster contained 1600 documents! This was way more compared to the 100 or so each other contained, which told me we didn't have enough clusters to accurately classify the data. Finally, I got to a t=3 value, which produced 66 well distributed clusters (biggest was only 240)\n",
        "\n",
        "I then got the number of documents within each cluster, got the authors which resided in each cluster, clusters per author, and finally got the 10 words which appeared.\n",
        "\n"
      ],
      "metadata": {
        "id": "37iwJMFEnhnE"
      }
    },
    {
      "cell_type": "markdown",
      "source": [
        "### Results"
      ],
      "metadata": {
        "id": "TL38604Q1UUa"
      }
    },
    {
      "cell_type": "markdown",
      "source": [
        "**Results:**\n",
        "\n",
        "**Part 1**\n",
        "\n",
        "*Part 1 of analysis simply looks at which authors appeared in what clusters, no TF-IDF just yet.*\n",
        "\n",
        "Something we can do, is look at the authors found within each cluster. Some authors had clusters all to themselves! Heather Scoffield, Robin Sidel, Roger Fillion (x2!), Patricia Commins, Simon Cowell, and Michael Conner all had clusters to themselves! This indicates that perhaps these authors have a unique writing style OR (what I think is more likely) they discussed a unique topic. Later we can look at the top ten words based on TF-IDF scores to see.\n",
        "\n",
        "Although these authors did have their own clusters, no author appeared in a cluster only once which is something intresting to consider.\n",
        "\n",
        "I checked Matthew Bunce, as he appeared in the least amount of clusters, only two. Each cluster was intresting. He appeared in cluster 50, which is second largest cluster with 189 documents and in another cluster which contained 5 other authors and 50 documents. Cluster 51 and 50 (two largest clusters) I consider to be clusters that are more general, and capture documents of which there really wasn't a big pattern too, so for Matthew Bunce, it may be best to only look at his other cluster, cluster 62.\n",
        "\n",
        "Some authors appeared across *many* clusters, the most top 3 being Mark Bendeich at 11, and both Brad Dorfman and Scott Hillis at 12. This indicates that perhaps these authors have a variety of writing styles or topics.\n",
        "\n",
        "**Part 2**\n",
        "*This will take into account TF-IDF scores*\n",
        "\n",
        "This part of the results is fascinating. By looking at each cluster individually, we can find common themes within them, as well as by using command f, find common themes across a variety of clusters.\n",
        "\n",
        "**Cluster 1:** Included words like China, British, and the word handover. The inclusion of the word 'handover' to me sounds like it may have to do with the British handover of Hong Kong to China after WW2!\n",
        "\n",
        "**Cluster 2:** Also includes, China, however this time it includes words like legislature, democracy, committie, and provisonal. This to me seems like it clusters documents regarding Chinese law and legislature.\n",
        "\n",
        "**Cluster 7:** Included words like 'gm' (General Motors), workers, UAW, Strike, Plants, and Union. This clearly indicates that cluster 7 includes documents about the UAW strike against General Motors.\n",
        "\n",
        "**Cluster 9:** Included words like Scotland, bank, analyst, banking, pence, customers, percent, etc. This indicates it may have to do with the banking system in Scotland, or something like that\n",
        "\n",
        "**Cluster 38:** Included words like drugs, Colombia, police, extradition, government, states, and united. This probably has to do with Colombian drug cartels, and extraditions possibly to the states\n",
        "\n",
        "With Command F, we find that some words are common throughout clusters, like China, market(s), banking, and said. This gives us perhaps an idea of common themes throughout parts of the corpus. Said is something I may look to exclude in the future, as it is included in most of the clusters (however, it does give information. It tells me that the authors are observing other entities).\n",
        "\n",
        "Finally, I will look at clusters with just one authors, to see what I find.\n",
        "\n",
        "**Roger Fillion:**\n",
        "\n",
        "Cluster 31 - Top words: fcc, phone, local, carriers, distance, rules, companies, etc. FCC stands for federal comunications Commision, which regulates interstate and international communications. Once this is understood, the other words begin to make sense\n",
        "\n",
        "Cluster 35 - Top words: tv, ratings, industry, shows, children, content, parents, valneti, etc. This seems to be discussions regarding tv ratings, and the industry or genre within the industries.\n",
        "\n",
        "Super interesting that by looking at the content within these clusters by the same author, we get absolutely different results which tell different stories. This suggests our clustering did some great work!\n",
        "\n",
        "**Robin Sidel:**\n",
        "\n",
        "Cluster 28 - Top words: conrail, csx, norfolk, southern, offer, shareholders, bid, stock, cash, etc. Conrail and CSX are rail companies in the United States, which give us some context about what the documents may be about. Shareholders, bid, stock, and cash give us indications that something business related is happening between the two companies or something like that.\n",
        "\n",
        "When using command F, I could not find any other clusters who contained Conrail, CSX, or a similar topic.\n",
        "\n",
        "There is still *A LOT* more that we could have analyzed, and so much more that can be learned from this clustering\n",
        "\n",
        "I also included the final dendrogram used, with the 66 clusters. The x axis contians the number of documents, and the y represents the distance's.\n"
      ],
      "metadata": {
        "id": "-NflhY5Lu5s-"
      }
    },
    {
      "cell_type": "code",
      "source": [
        "# Assuming you have already generated the linkage matrix Z\n",
        "Z = linkage(train_dtm.toarray(), method='ward')\n",
        "\n",
        "# Plotting the dendrogram\n",
        "plt.figure(figsize=(10, 7))\n",
        "plt.title('Hierarchical Clustering Dendrogram')\n",
        "\n",
        "# Plot the full dendrogram\n",
        "dendrogram(Z, truncate_mode='lastp', p=66, show_contracted=True)\n",
        "\n",
        "# Draw a horizontal line to show the cut point for 66 clusters\n",
        "plt.axhline(y=Z[-66, 2], color='r', linestyle='--')\n",
        "\n",
        "plt.xlabel('Document Index')\n",
        "plt.ylabel('Distance')\n",
        "plt.show()"
      ],
      "metadata": {
        "colab": {
          "base_uri": "https://localhost:8080/",
          "height": 649
        },
        "id": "i8HWUX5wyYrt",
        "outputId": "9b3c98c5-aab4-4e27-b8af-6467499bb39a"
      },
      "execution_count": 28,
      "outputs": [
        {
          "output_type": "display_data",
          "data": {
            "text/plain": [
              "<Figure size 1000x700 with 1 Axes>"
            ],
            "image/png": "[encoded data removed]"
          },
          "metadata": {}
        }
      ]
    },
    {
      "cell_type": "markdown",
      "source": [
        "### Conclusion"
      ],
      "metadata": {
        "id": "nEh_LBEw1WB7"
      }
    },
    {
      "cell_type": "markdown",
      "source": [
        "**Conclusion:**\n",
        "\n",
        "The question I proposed was twofold. Could the clusters be organized in a meanigful way? The answer to that is yes.\n",
        "\n",
        "Secondly, what can we learn about the data/documents?\n",
        "\n",
        "We can actually learn quite a bit about the documents. By clustering the documents together based on TF-IDF, we can learn about authors writing styles and genres. We can also discover similarity between documents, in terms of thier content- which can be very Specific! Just look at the some of the clusters I highlighted above in analysis!\n",
        "\n",
        "Now, to my stakeholder friends, how might this be intresting to you?\n",
        "\n",
        "Firstly, if we apply similar clustering to an even wider variety of documents and include current day documents, we can discover trends in the news regarding markets, international affairs, and much more. You my friend would have up to date information about the business world, which in turn would help you decide what markets, trends, companies, etc to investigate for possible investements.\n",
        "\n",
        "If there is an economist, investor, CEO, or Company we want to keep track of, this clustering would also help us do that. Perhaps we want to keep tabs on Middle East Oil, or General Motors, to understand what is happening within those companies. Or we want opionons from a trusted economist regarding the current economy.\n",
        "\n",
        "I have also included an image containing the 66 clusters established in the 'results' section. By looking at the color and heights of the clusters, we can determine their similarities as well. With this model there are visual tools like this graph as well, which make the data clear and easy to read.\n",
        "\n",
        "The tool I have created is a fantastic and efficient way to organize and understand data. This information could be essential for your decision making.\n",
        "\n",
        "Thank you.\n",
        "\n"
      ],
      "metadata": {
        "id": "1zSfW31K8nzH"
      }
    },
    {
      "cell_type": "markdown",
      "source": [
        "# **IGNORE**\n",
        "\n",
        "*(This down here did not work, but kept code for review in future or for fixing)*"
      ],
      "metadata": {
        "id": "S6j6DN5dmEer"
      }
    },
    {
      "cell_type": "markdown",
      "source": [
        "## Find Common Words Across Clusters"
      ],
      "metadata": {
        "id": "3Wd3gh4ekQMI"
      }
    },
    {
      "cell_type": "code",
      "source": [
        "from collections import defaultdict\n",
        "\n",
        "def find_common_words_across_clusters(cluster_labels, texts, top_n=10):\n",
        "    cluster_top_words = {}\n",
        "    word_cluster_map = defaultdict(list)\n",
        "\n",
        "    # Get top words for each cluster\n",
        "    for cluster_num in set(cluster_labels):\n",
        "        top_words = get_top_words_in_cluster(cluster_labels, cluster_num, texts, top_n=top_n)\n",
        "        cluster_top_words[cluster_num] = top_words\n",
        "        for word, _ in top_words:\n",
        "            word_cluster_map[word].append(cluster_num)\n",
        "\n",
        "    # Print common words across multiple clusters\n",
        "    for word, clusters in word_cluster_map.items():\n",
        "        if len(clusters) > 1:  # Word appears in more than one cluster\n",
        "            print(f\"Word '{word}' appears in clusters {clusters}\")\n"
      ],
      "metadata": {
        "id": "R81kRhtciot5"
      },
      "execution_count": 15,
      "outputs": []
    },
    {
      "cell_type": "markdown",
      "source": [
        "## Analyze Clusters by Author"
      ],
      "metadata": {
        "id": "hP9fDw9ukR8i"
      }
    },
    {
      "cell_type": "code",
      "source": [
        "from collections import defaultdict\n",
        "\n",
        "def analyze_clusters_by_authors(cluster_labels, cluster_num, authors, texts):\n",
        "    author_docs = defaultdict(list)\n",
        "\n",
        "    # Group documents by author within the cluster\n",
        "    for i in range(len(cluster_labels)):\n",
        "        if cluster_labels[i] == cluster_num:\n",
        "            author_docs[authors[i]].append(texts[i])\n",
        "\n",
        "    # Analyze the authors' contributions\n",
        "    for author, docs in author_docs.items():\n",
        "        print(f\"Author {author} contributed {len(docs)} documents to Cluster {cluster_num}.\")\n",
        "        top_words = get_top_words_in_cluster(cluster_labels, cluster_num, docs, top_n=10)\n",
        "        print(f\"Top words for author {author} in Cluster {cluster_num}: {top_words}\")\n",
        "\n",
        "# Example usage for a specific cluster\n",
        "analyze_clusters_by_authors(cluster_labels, 50, train_labels, train_texts)\n"
      ],
      "metadata": {
        "colab": {
          "base_uri": "https://localhost:8080/",
          "height": 339
        },
        "id": "_JJlNGk-kTM7",
        "outputId": "1bd91744-357d-41ea-d05f-ed1aa792b72c"
      },
      "execution_count": 12,
      "outputs": [
        {
          "output_type": "stream",
          "name": "stdout",
          "text": [
            "Author RogerFillion contributed 4 documents to Cluster 50.\n"
          ]
        },
        {
          "output_type": "error",
          "ename": "IndexError",
          "evalue": "list index out of range",
          "traceback": [
            "\u001b[0;31m---------------------------------------------------------------------------\u001b[0m",
            "\u001b[0;31mIndexError\u001b[0m                                Traceback (most recent call last)",
            "\u001b[0;32m<ipython-input-12-494e050c646c>\u001b[0m in \u001b[0;36m<cell line: 18>\u001b[0;34m()\u001b[0m\n\u001b[1;32m     16\u001b[0m \u001b[0;34m\u001b[0m\u001b[0m\n\u001b[1;32m     17\u001b[0m \u001b[0;31m# Example usage for a specific cluster\u001b[0m\u001b[0;34m\u001b[0m\u001b[0;34m\u001b[0m\u001b[0m\n\u001b[0;32m---> 18\u001b[0;31m \u001b[0manalyze_clusters_by_authors\u001b[0m\u001b[0;34m(\u001b[0m\u001b[0mcluster_labels\u001b[0m\u001b[0;34m,\u001b[0m \u001b[0;36m50\u001b[0m\u001b[0;34m,\u001b[0m \u001b[0mtrain_labels\u001b[0m\u001b[0;34m,\u001b[0m \u001b[0mtrain_texts\u001b[0m\u001b[0;34m)\u001b[0m\u001b[0;34m\u001b[0m\u001b[0;34m\u001b[0m\u001b[0m\n\u001b[0m",
            "\u001b[0;32m<ipython-input-12-494e050c646c>\u001b[0m in \u001b[0;36manalyze_clusters_by_authors\u001b[0;34m(cluster_labels, cluster_num, authors, texts)\u001b[0m\n\u001b[1;32m     12\u001b[0m     \u001b[0;32mfor\u001b[0m \u001b[0mauthor\u001b[0m\u001b[0;34m,\u001b[0m \u001b[0mdocs\u001b[0m \u001b[0;32min\u001b[0m \u001b[0mauthor_docs\u001b[0m\u001b[0;34m.\u001b[0m\u001b[0mitems\u001b[0m\u001b[0;34m(\u001b[0m\u001b[0;34m)\u001b[0m\u001b[0;34m:\u001b[0m\u001b[0;34m\u001b[0m\u001b[0;34m\u001b[0m\u001b[0m\n\u001b[1;32m     13\u001b[0m         \u001b[0mprint\u001b[0m\u001b[0;34m(\u001b[0m\u001b[0;34mf\"Author {author} contributed {len(docs)} documents to Cluster {cluster_num}.\"\u001b[0m\u001b[0;34m)\u001b[0m\u001b[0;34m\u001b[0m\u001b[0;34m\u001b[0m\u001b[0m\n\u001b[0;32m---> 14\u001b[0;31m         \u001b[0mtop_words\u001b[0m \u001b[0;34m=\u001b[0m \u001b[0mget_top_words_in_cluster\u001b[0m\u001b[0;34m(\u001b[0m\u001b[0mcluster_labels\u001b[0m\u001b[0;34m,\u001b[0m \u001b[0mcluster_num\u001b[0m\u001b[0;34m,\u001b[0m \u001b[0mdocs\u001b[0m\u001b[0;34m,\u001b[0m \u001b[0mtop_n\u001b[0m\u001b[0;34m=\u001b[0m\u001b[0;36m10\u001b[0m\u001b[0;34m)\u001b[0m\u001b[0;34m\u001b[0m\u001b[0;34m\u001b[0m\u001b[0m\n\u001b[0m\u001b[1;32m     15\u001b[0m         \u001b[0mprint\u001b[0m\u001b[0;34m(\u001b[0m\u001b[0;34mf\"Top words for author {author} in Cluster {cluster_num}: {top_words}\"\u001b[0m\u001b[0;34m)\u001b[0m\u001b[0;34m\u001b[0m\u001b[0;34m\u001b[0m\u001b[0m\n\u001b[1;32m     16\u001b[0m \u001b[0;34m\u001b[0m\u001b[0m\n",
            "\u001b[0;32m<ipython-input-9-c482c1e39a74>\u001b[0m in \u001b[0;36mget_top_words_in_cluster\u001b[0;34m(cluster_labels, cluster_num, texts, top_n)\u001b[0m\n\u001b[1;32m      5\u001b[0m \u001b[0;32mdef\u001b[0m \u001b[0mget_top_words_in_cluster\u001b[0m\u001b[0;34m(\u001b[0m\u001b[0mcluster_labels\u001b[0m\u001b[0;34m,\u001b[0m \u001b[0mcluster_num\u001b[0m\u001b[0;34m,\u001b[0m \u001b[0mtexts\u001b[0m\u001b[0;34m,\u001b[0m \u001b[0mtop_n\u001b[0m\u001b[0;34m=\u001b[0m\u001b[0;36m10\u001b[0m\u001b[0;34m)\u001b[0m\u001b[0;34m:\u001b[0m\u001b[0;34m\u001b[0m\u001b[0;34m\u001b[0m\u001b[0m\n\u001b[1;32m      6\u001b[0m     \u001b[0;31m# Select texts from the given cluster\u001b[0m\u001b[0;34m\u001b[0m\u001b[0;34m\u001b[0m\u001b[0m\n\u001b[0;32m----> 7\u001b[0;31m     \u001b[0mcluster_texts\u001b[0m \u001b[0;34m=\u001b[0m \u001b[0;34m[\u001b[0m\u001b[0mtexts\u001b[0m\u001b[0;34m[\u001b[0m\u001b[0mi\u001b[0m\u001b[0;34m]\u001b[0m \u001b[0;32mfor\u001b[0m \u001b[0mi\u001b[0m \u001b[0;32min\u001b[0m \u001b[0mrange\u001b[0m\u001b[0;34m(\u001b[0m\u001b[0mlen\u001b[0m\u001b[0;34m(\u001b[0m\u001b[0mcluster_labels\u001b[0m\u001b[0;34m)\u001b[0m\u001b[0;34m)\u001b[0m \u001b[0;32mif\u001b[0m \u001b[0mcluster_labels\u001b[0m\u001b[0;34m[\u001b[0m\u001b[0mi\u001b[0m\u001b[0;34m]\u001b[0m \u001b[0;34m==\u001b[0m \u001b[0mcluster_num\u001b[0m\u001b[0;34m]\u001b[0m\u001b[0;34m\u001b[0m\u001b[0;34m\u001b[0m\u001b[0m\n\u001b[0m\u001b[1;32m      8\u001b[0m \u001b[0;34m\u001b[0m\u001b[0m\n\u001b[1;32m      9\u001b[0m     \u001b[0;31m# Join all texts into a single string\u001b[0m\u001b[0;34m\u001b[0m\u001b[0;34m\u001b[0m\u001b[0m\n",
            "\u001b[0;32m<ipython-input-9-c482c1e39a74>\u001b[0m in \u001b[0;36m<listcomp>\u001b[0;34m(.0)\u001b[0m\n\u001b[1;32m      5\u001b[0m \u001b[0;32mdef\u001b[0m \u001b[0mget_top_words_in_cluster\u001b[0m\u001b[0;34m(\u001b[0m\u001b[0mcluster_labels\u001b[0m\u001b[0;34m,\u001b[0m \u001b[0mcluster_num\u001b[0m\u001b[0;34m,\u001b[0m \u001b[0mtexts\u001b[0m\u001b[0;34m,\u001b[0m \u001b[0mtop_n\u001b[0m\u001b[0;34m=\u001b[0m\u001b[0;36m10\u001b[0m\u001b[0;34m)\u001b[0m\u001b[0;34m:\u001b[0m\u001b[0;34m\u001b[0m\u001b[0;34m\u001b[0m\u001b[0m\n\u001b[1;32m      6\u001b[0m     \u001b[0;31m# Select texts from the given cluster\u001b[0m\u001b[0;34m\u001b[0m\u001b[0;34m\u001b[0m\u001b[0m\n\u001b[0;32m----> 7\u001b[0;31m     \u001b[0mcluster_texts\u001b[0m \u001b[0;34m=\u001b[0m \u001b[0;34m[\u001b[0m\u001b[0mtexts\u001b[0m\u001b[0;34m[\u001b[0m\u001b[0mi\u001b[0m\u001b[0;34m]\u001b[0m \u001b[0;32mfor\u001b[0m \u001b[0mi\u001b[0m \u001b[0;32min\u001b[0m \u001b[0mrange\u001b[0m\u001b[0;34m(\u001b[0m\u001b[0mlen\u001b[0m\u001b[0;34m(\u001b[0m\u001b[0mcluster_labels\u001b[0m\u001b[0;34m)\u001b[0m\u001b[0;34m)\u001b[0m \u001b[0;32mif\u001b[0m \u001b[0mcluster_labels\u001b[0m\u001b[0;34m[\u001b[0m\u001b[0mi\u001b[0m\u001b[0;34m]\u001b[0m \u001b[0;34m==\u001b[0m \u001b[0mcluster_num\u001b[0m\u001b[0;34m]\u001b[0m\u001b[0;34m\u001b[0m\u001b[0;34m\u001b[0m\u001b[0m\n\u001b[0m\u001b[1;32m      8\u001b[0m \u001b[0;34m\u001b[0m\u001b[0m\n\u001b[1;32m      9\u001b[0m     \u001b[0;31m# Join all texts into a single string\u001b[0m\u001b[0;34m\u001b[0m\u001b[0;34m\u001b[0m\u001b[0m\n",
            "\u001b[0;31mIndexError\u001b[0m: list index out of range"
          ]
        }
      ]
    }
  ]
}
